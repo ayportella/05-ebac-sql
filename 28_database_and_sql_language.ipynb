{
  "nbformat": 4,
  "nbformat_minor": 0,
  "metadata": {
    "colab": {
      "provenance": [],
      "toc_visible": true,
      "include_colab_link": true
    },
    "kernelspec": {
      "name": "python3",
      "display_name": "Python 3"
    }
  },
  "cells": [
    {
      "cell_type": "markdown",
      "metadata": {
        "id": "view-in-github",
        "colab_type": "text"
      },
      "source": [
        "<a href=\"https://colab.research.google.com/github/ayportella/05-sql/blob/main/28_database_and_sql_language.ipynb\" target=\"_parent\"><img src=\"https://colab.research.google.com/assets/colab-badge.svg\" alt=\"Open In Colab\"/></a>"
      ]
    },
    {
      "cell_type": "markdown",
      "metadata": {
        "id": "KJqp9AANOCtf"
      },
      "source": [
        "<img src=\"https://raw.githubusercontent.com/andre-marcos-perez/ebac-course-utils/main/media/logo/newebac_logo_black_half.png\" alt=\"ebac-logo\">\n",
        "\n",
        "---\n",
        "\n",
        "# **Módulo** | SQL: Base de dados & Linguagem SQL\n",
        "Caderno de **Exercícios**<br> \n",
        "Professor [André Perez](https://www.linkedin.com/in/andremarcosperez/)\n",
        "\n",
        "---"
      ]
    },
    {
      "cell_type": "markdown",
      "metadata": {
        "id": "d9jDtUbDOE1-"
      },
      "source": [
        "# **Tópicos**\n",
        "\n",
        "<ol type=\"1\">\n",
        "  <li>Introdução ao Google Colab;</li>\n",
        "  <li>Bases de dados relacionais;</li>\n",
        "  <li>Introdução ao SQL;</li>\n",
        "  <li>Introdução ao AWS Console;</li>\n",
        "  <li>Armazenamento de dados com AWS S3;</li>\n",
        "  <li>Computação em SQL com AWS Athena.</li>\n",
        "</ol>"
      ]
    },
    {
      "cell_type": "markdown",
      "metadata": {
        "id": "SmoHgt-lwkpD"
      },
      "source": [
        "---"
      ]
    },
    {
      "cell_type": "markdown",
      "metadata": {
        "id": "DIlQOznoTPQF"
      },
      "source": [
        "# **Instruções**\n",
        "\n",
        "Neste exercícios, vamos configurar e testar os serviços AWS S3 e AWS Athena da plataforma de computação em nuvem da AWS para utilizarmos durante todo o curso: \n",
        "\n",
        "Na etapa de **configuração**, você deve seguir o passo a passo de configuração do ambiente, não há entregáveis.\n",
        "\n",
        "Na etapa de **atividades**, você deve:\n",
        "\n",
        " 1. Eexecutar a consulta SQL fornecida;\n",
        " 2. Exportar os resultados em um arquivo csv para sua máquina; \n",
        " 3. Renomear o arquivo como **query_\\<numero-da-query>.csv**;\n",
        " 4. Enviar para a avaliação do tutor na plataforma da EBAC.\n",
        "\n",
        "> **Atenção**: Substitua o **\\<numero-da-query>** numero da consulta, exemplo: **query_1.csv**."
      ]
    },
    {
      "cell_type": "markdown",
      "metadata": {
        "id": "vvlBORqbTPQp"
      },
      "source": [
        "---"
      ]
    },
    {
      "cell_type": "markdown",
      "metadata": {
        "id": "GABI6OW8OfQ2"
      },
      "source": [
        "# **Configuração**"
      ]
    },
    {
      "cell_type": "markdown",
      "metadata": {
        "id": "muD1vxozykSC"
      },
      "source": [
        "## 1\\. Criando a sua conta da AWS"
      ]
    },
    {
      "cell_type": "markdown",
      "metadata": {
        "id": "ahrFfCuBxJKs"
      },
      "source": [
        " Acesse a plataforma da AWS neste [link](https://portal.aws.amazon.com/), clique no botão **Criar uma nova conta da AWS** e siga as etapas para a criação da conta. Com a conta pronta, acesse o console da AWS usando as suas novas credenciais neste [link](https://portal.aws.amazon.com/).\n",
        "\n",
        "\n",
        "> **Atenção**: Lembre-se que você precisa de um cartão de crédito para criar a sua conta."
      ]
    },
    {
      "cell_type": "markdown",
      "metadata": {
        "id": "jdIScjXVWoHU"
      },
      "source": [
        "## 2\\. Configurando o AWS S3"
      ]
    },
    {
      "cell_type": "markdown",
      "metadata": {
        "id": "OCY24c61WoHW"
      },
      "source": [
        "1. Acesse AWS S3;\n",
        "2. Crie dois buckets:\n",
        " *   **ebac-\\<seu-nome>-modulo_1**: para os dados;\n",
        " *   **ebac-\\<seu-nome>-query-results**: para o resultado das consultas do AWS Athena;\n",
        "3. Faço o upload do arquivo **credito-aula.csv** no bucket de dados.\n",
        "\n",
        "> **Atenção**: Substitua o **\\<seu-nome>** pelo seu primeiro nome, exemplo: **ebac-andreperez-modulo_1**.\n",
        "\n",
        "> **Atenção**: Caso o bucket já exista, sinta-se a vontade para escolher o nome que desejar.\n",
        "\n",
        " > **Atenção**: O arquivo **credito-aula.csv** está na plataforma da EBAC."
      ]
    },
    {
      "cell_type": "markdown",
      "metadata": {
        "id": "lnCGnQ8PWoHX"
      },
      "source": [
        "## 2\\. Configurando o AWS Athena"
      ]
    },
    {
      "cell_type": "markdown",
      "metadata": {
        "id": "GXt0Ud01WoHX"
      },
      "source": [
        "1. Acesse AWS Athena;\n",
        "2. Configure o local de armazenamento das consultas:\n",
        "\n",
        " * Clique no botão **settings**;\n",
        " * Preencha o campo **Query result location** com o nome do bucket (**ebac-\\<seu-nome>-query-results**) criado na etapa anterior;\n",
        " * Clique em salvar."
      ]
    },
    {
      "cell_type": "markdown",
      "metadata": {
        "id": "k4HJwfbQcEQw"
      },
      "source": [
        "# Atividades"
      ]
    },
    {
      "cell_type": "markdown",
      "metadata": {
        "id": "Lyqe05QXcERP"
      },
      "source": [
        "## **1 Criação da tabela de clientes** "
      ]
    },
    {
      "cell_type": "markdown",
      "metadata": {
        "id": "Rq7i2Tb4cERP"
      },
      "source": [
        "No console do AWS Athena, execute a seguinte query:\n",
        "\n",
        "```sql\n",
        "CREATE EXTERNAL TABLE clientes(\n",
        "  id BIGINT, \n",
        "  idade BIGINT, \n",
        "  sexo STRING, \n",
        "  dependentes BIGINT, \n",
        "  escolaridade STRING, \n",
        "  tipo_cartao STRING, \n",
        "  limite_credito DOUBLE, \n",
        "  valor_transacoes_12m DOUBLE, \n",
        "  qtd_transacoes_12m BIGINT) \n",
        "ROW FORMAT SERDE 'org.apache.hadoop.hive.serde2.OpenCSVSerde'\n",
        "WITH SERDEPROPERTIES ('separatorChar' = ',', 'quoteChar' = '\"', 'escapeChar' = '\\\\')\n",
        "STORED AS TEXTFILE\n",
        "LOCATION 's3://ebac-<seu-nome>-modulo_1/'\n",
        "```\n",
        "\n",
        "No painel de resultados, você deve encontrar o seguinte resultado.\n",
        "\n",
        "```\n",
        "Query successful.\n",
        "```\n",
        "\n",
        "\n",
        "> **Atenção**: No campo LOCATION, substitua o **\\<seu-nome>** pelo seu primeiro nome, exemplo: **ebac-andreperez-modulo_1**.\n",
        "\n",
        "> **Atenção**: Nesta atividade, você não precisa exportar os resultados."
      ]
    },
    {
      "cell_type": "markdown",
      "source": [
        "![query1.PNG](data:image/png;base64,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)"
      ],
      "metadata": {
        "id": "7_8Y_jWatalw"
      }
    },
    {
      "cell_type": "markdown",
      "source": [
        "Essa é uma figura do print do resultado em que podemos ver a tabela clientes criada;\n",
        "\n",
        "BIGINT significa Biginteger, que é um integer com maior espaço de armazenamento (64 bits ao invés de 32 bits).\n",
        "Double aceita valores flutuantes, por isso as colunas 'limite_credito' e 'valor_transacoes_12' representam valores financeiros.\n",
        "String seria representado por texto.\n",
        "\n",
        "https://learn.microsoft.com/pt-br/sql/connect/jdbc/understanding-data-type-differences?view=sql-server-ver16"
      ],
      "metadata": {
        "id": "Zmml_B5ptiEb"
      }
    },
    {
      "cell_type": "markdown",
      "metadata": {
        "id": "0cbohKQegVk7"
      },
      "source": [
        "## **2. Explorando os dados da tabela de clientes** "
      ]
    },
    {
      "cell_type": "markdown",
      "metadata": {
        "id": "0Airo3E0h5Ik"
      },
      "source": [
        "### **2.1. Query 1** "
      ]
    },
    {
      "cell_type": "markdown",
      "metadata": {
        "id": "2m92meC8gVk9"
      },
      "source": [
        "No console do AWS Athena, execute a seguinte query:\n",
        "\n",
        "```sql\n",
        "SELECT * FROM clientes;\n",
        "```\n",
        "\n",
        "No painel de resultados você deve encontrar o seguinte resultado.\n",
        "\n",
        "| id        | idade | sexo | dependentes | escolaridade | tipo_cartao | limite_credito | valor_transacoes_12m | qtd_transacoes_12m |\n",
        "|-----------|-------|------|---|--------------|-|----------------|----------|----|\n",
        "| 768805383 | 45    | M    | 3 | ensino medio | blue | 12.691,51      | 1.144,90 | 42 |\n",
        "| 818770008 | 49    | F    | 5 | mestrado     | blue | 8.256,96      | 1.291,45 | 33 |\n",
        "| 713982108 | 51    | M    | 3 | mestrado     | blue | 3.418,56      | 1.887,72 | 20 |\n",
        "\n",
        "<br>\n",
        "\n",
        "> **Atenção**: Extraia os resultados para o arquivo CSV através do botão de download e renomei-o com o número da query. Voce deve envia-lo para os tutores de EBAC."
      ]
    },
    {
      "cell_type": "markdown",
      "metadata": {
        "id": "N-lRqaLXiL9i"
      },
      "source": [
        "### **2.2. Query 2** "
      ]
    },
    {
      "cell_type": "markdown",
      "metadata": {
        "id": "j_WeV8RliL9j"
      },
      "source": [
        "No console do AWS Athena, execute a seguinte query:\n",
        "\n",
        "```sql\n",
        "SELECT id, idade, limite_credito FROM clientes WHERE sexo = 'M' ORDER BY idade DESC;\n",
        "```\n",
        "\n",
        "No painel de resultados você deve encontrar o seguinte resultado.\n",
        "\n",
        "| id        | idade | limite_credito |\n",
        "|-----------|-------|----------------|\n",
        "| 713982108 | 51    |   3418.56      |\n",
        "| 768805383 | 45    |  12691.51      |\n",
        "\n",
        "<br>\n",
        "\n",
        "> **Atenção**: Extraia os resultados para o arquivo CSV através do botão de download e renomei-o com o número da query. Voce deve envia-lo para os tutores de EBAC."
      ]
    },
    {
      "cell_type": "markdown",
      "metadata": {
        "id": "dnQoRZCGiMQH"
      },
      "source": [
        "### **2.3. Query 3** "
      ]
    },
    {
      "cell_type": "markdown",
      "metadata": {
        "id": "SyLk8zbaiMQI"
      },
      "source": [
        "No console do AWS Athena, execute a seguinte query:\n",
        "\n",
        "```sql\n",
        "SELECT sexo, AVG(idade) AS \"media_idade_por_sexo\" FROM clientes GROUP BY sexo;\n",
        "```\n",
        "\n",
        "No painel de resultados você deve encontrar o seguinte resultado.\n",
        "\n",
        "| sexo | media_idade_por_sexo |\n",
        "|------|----------------------|\n",
        "| F    | 49                   |\n",
        "| M    | 48                   |\n",
        "\n",
        "<br>\n",
        "\n",
        "> **Atenção**: Extraia os resultados para o arquivo CSV através do botão de download e renomei-o com o número da query. Voce deve envia-lo para os tutores de EBAC."
      ]
    },
    {
      "cell_type": "markdown",
      "source": [
        "**OBS.:** esse capítulo do curso também explicou a diferença entre DDL e DML. DDL e DML são tipos de linguagem SQL.\n",
        "\n",
        "A DDL, Data Definition Language ou Linguagem de Definição de Dados, apesar do nome não interage com os dados e sim com os objetos do banco.\n",
        "São comandos desse tipo o CREATE, o ALTER e o DROP.\n",
        "\n",
        "Já a DML, Data Manipulation Language, ou Linguagem de Manipulação de Dados, interage diretamente com os dados dentro das tabelas.\n",
        "São comandos do DML o INSERT, UPDATE e DELETE, e as instruções de manipular dados em geral (selecionar, filtrar, agregar, limitar, etc).\n"
      ],
      "metadata": {
        "id": "I1fMI9nDz7JE"
      }
    }
  ]
}